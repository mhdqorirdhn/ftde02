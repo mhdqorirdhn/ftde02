{
 "cells": [
  {
   "cell_type": "code",
   "execution_count": 10,
   "id": "2c67cc56",
   "metadata": {},
   "outputs": [
    {
     "name": "stdout",
     "output_type": "stream",
     "text": [
      "Requirement already satisfied: pandas==1.3.5 in d:\\coding\\digitalskola\\project_4\\venv\\lib\\site-packages (1.3.5)\n",
      "Collecting sqlalchemy==1.4.46\n",
      "  Downloading SQLAlchemy-1.4.46-cp37-cp37m-win_amd64.whl (1.6 MB)\n",
      "Requirement already satisfied: psycopg2-binary in d:\\coding\\digitalskola\\project_4\\venv\\lib\\site-packages (2.9.9)\n",
      "Requirement already satisfied: numpy>=1.17.3; platform_machine != \"aarch64\" and platform_machine != \"arm64\" and python_version < \"3.10\" in d:\\coding\\digitalskola\\project_4\\venv\\lib\\site-packages (from pandas==1.3.5) (1.21.6)\n",
      "Requirement already satisfied: pytz>=2017.3 in d:\\coding\\digitalskola\\project_4\\venv\\lib\\site-packages (from pandas==1.3.5) (2024.2)\n",
      "Requirement already satisfied: python-dateutil>=2.7.3 in d:\\coding\\digitalskola\\project_4\\venv\\lib\\site-packages (from pandas==1.3.5) (2.9.0.post0)\n",
      "Requirement already satisfied: greenlet!=0.4.17; python_version >= \"3\" and (platform_machine == \"aarch64\" or (platform_machine == \"ppc64le\" or (platform_machine == \"x86_64\" or (platform_machine == \"amd64\" or (platform_machine == \"AMD64\" or (platform_machine == \"win32\" or platform_machine == \"WIN32\")))))) in d:\\coding\\digitalskola\\project_4\\venv\\lib\\site-packages (from sqlalchemy==1.4.46) (3.1.0)\n",
      "Requirement already satisfied: importlib-metadata; python_version < \"3.8\" in d:\\coding\\digitalskola\\project_4\\venv\\lib\\site-packages (from sqlalchemy==1.4.46) (6.7.0)\n",
      "Requirement already satisfied: six>=1.5 in d:\\coding\\digitalskola\\project_4\\venv\\lib\\site-packages (from python-dateutil>=2.7.3->pandas==1.3.5) (1.16.0)\n",
      "Requirement already satisfied: zipp>=0.5 in d:\\coding\\digitalskola\\project_4\\venv\\lib\\site-packages (from importlib-metadata; python_version < \"3.8\"->sqlalchemy==1.4.46) (3.15.0)\n",
      "Requirement already satisfied: typing-extensions>=3.6.4; python_version < \"3.8\" in d:\\coding\\digitalskola\\project_4\\venv\\lib\\site-packages (from importlib-metadata; python_version < \"3.8\"->sqlalchemy==1.4.46) (4.7.1)\n",
      "Installing collected packages: sqlalchemy\n",
      "  Attempting uninstall: sqlalchemy\n",
      "    Found existing installation: SQLAlchemy 2.0.35\n",
      "    Uninstalling SQLAlchemy-2.0.35:\n",
      "      Successfully uninstalled SQLAlchemy-2.0.35\n",
      "Note: you may need to restart the kernel to use updated packages.\n"
     ]
    },
    {
     "name": "stderr",
     "output_type": "stream",
     "text": [
      "ERROR: Could not install packages due to an EnvironmentError: [WinError 5] Access is denied: 'd:\\\\coding\\\\digitalskola\\\\project_4\\\\venv\\\\lib\\\\site-packages\\\\~qlalchemy\\\\cyextension\\\\collections.cp37-win_amd64.pyd'\n",
      "Consider using the `--user` option or check the permissions.\n",
      "\n",
      "WARNING: You are using pip version 20.1.1; however, version 24.0 is available.\n",
      "You should consider upgrading via the 'd:\\coding\\digitalskola\\project_4\\venv\\scripts\\python.exe -m pip install --upgrade pip' command.\n"
     ]
    }
   ],
   "source": [
    "pip install pandas==1.3.5 sqlalchemy==1.4.46 psycopg2-binary"
   ]
  },
  {
   "cell_type": "code",
   "execution_count": 12,
   "id": "2489484e",
   "metadata": {
    "collapsed": true
   },
   "outputs": [
    {
     "name": "stdout",
     "output_type": "stream",
     "text": [
      "Package              Version\n",
      "-------------------- -----------\n",
      "anyio                3.7.1\n",
      "argon2-cffi          23.1.0\n",
      "argon2-cffi-bindings 21.2.0\n",
      "attrs                24.2.0\n",
      "backcall             0.2.0\n",
      "beautifulsoup4       4.12.3\n",
      "bleach               6.0.0\n",
      "cffi                 1.15.1\n",
      "colorama             0.4.6\n",
      "debugpy              1.7.0\n",
      "decorator            5.1.1\n",
      "defusedxml           0.7.1\n",
      "entrypoints          0.4\n",
      "exceptiongroup       1.2.2\n",
      "fastjsonschema       2.20.0\n",
      "greenlet             3.1.0\n",
      "idna                 3.10\n",
      "importlib-metadata   6.7.0\n",
      "importlib-resources  5.12.0\n",
      "ipykernel            6.16.2\n",
      "ipython              7.34.0\n",
      "ipython-genutils     0.2.0\n",
      "jedi                 0.19.1\n",
      "jinja2               3.1.4\n",
      "jsonschema           4.17.3\n",
      "jupyter-client       7.4.9\n",
      "jupyter-core         4.12.0\n",
      "jupyter-server       1.24.0\n",
      "jupyterlab-pygments  0.2.2\n",
      "kafka-python         2.0.2\n",
      "MarkupSafe           2.1.5\n",
      "matplotlib-inline    0.1.6\n",
      "mistune              3.0.2\n",
      "nbclassic            1.1.0\n",
      "nbclient             0.7.4\n",
      "nbconvert            7.6.0\n",
      "nbformat             5.8.0\n",
      "nest-asyncio         1.6.0\n",
      "notebook             6.5.7\n",
      "notebook-shim        0.2.4\n",
      "numpy                1.21.6\n",
      "packaging            24.0\n",
      "pandas               1.3.5\n",
      "pandocfilters        1.5.1\n",
      "parso                0.8.4\n",
      "pickleshare          0.7.5\n",
      "pip                  20.1.1\n",
      "pkgutil-resolve-name 1.3.10\n",
      "prometheus-client    0.17.1\n",
      "prompt-toolkit       3.0.47\n",
      "psutil               6.0.0\n",
      "psycopg2-binary      2.9.9\n",
      "pycparser            2.21\n",
      "pygments             2.17.2\n",
      "pyrsistent           0.19.3\n",
      "python-dateutil      2.9.0.post0\n",
      "pytz                 2024.2\n",
      "pywin32              306\n",
      "pywinpty             2.0.10\n",
      "pyzmq                26.2.0\n",
      "Send2Trash           1.8.3\n",
      "setuptools           47.1.0\n",
      "six                  1.16.0\n",
      "sniffio              1.3.1\n",
      "soupsieve            2.4.1\n",
      "SQLAlchemy           1.4.46\n",
      "terminado            0.17.1\n",
      "tinycss2             1.2.1\n",
      "tornado              6.2\n",
      "traitlets            5.9.0\n",
      "typing-extensions    4.7.1\n",
      "wcwidth              0.2.13\n",
      "webencodings         0.5.1\n",
      "websocket-client     1.6.1\n",
      "zipp                 3.15.0\n",
      "Note: you may need to restart the kernel to use updated packages.\n"
     ]
    },
    {
     "name": "stderr",
     "output_type": "stream",
     "text": [
      "WARNING: You are using pip version 20.1.1; however, version 24.0 is available.\n",
      "You should consider upgrading via the 'd:\\coding\\digitalskola\\project_4\\venv\\scripts\\python.exe -m pip install --upgrade pip' command.\n"
     ]
    }
   ],
   "source": [
    "pip list"
   ]
  },
  {
   "cell_type": "code",
   "execution_count": 2,
   "id": "4cc5a558-8ca3-4a1e-a81b-a63df58258af",
   "metadata": {
    "tags": []
   },
   "outputs": [
    {
     "name": "stdout",
     "output_type": "stream",
     "text": [
      "Data telah dimasukkan ke tabel old_information.\n"
     ]
    }
   ],
   "source": [
    "import pandas as pd\n",
    "import urllib.parse\n",
    "\n",
    "from sqlalchemy import create_engine\n",
    "\n",
    "def insert_data_to_postgresql(df, table_name, db_url):\n",
    "    try:\n",
    "        engine = create_engine(db_url)\n",
    "\n",
    "        df.to_sql(table_name, engine, if_exists='append', index=False)\n",
    "        print(f\"Data telah dimasukkan ke tabel {table_name}.\")\n",
    "    except Exception as e:\n",
    "        print(f\"Terjadi kesalahan: {e}\")\n",
    "\n",
    "if __name__ == \"__main__\":\n",
    "    csv_path = \"Old_Information.csv\"\n",
    "    data = pd.read_csv(csv_path)\n",
    "    \n",
    "    # Informasi koneksi ke PostgreSQL\n",
    "    username = \"fde021\"\n",
    "    password = \"fde021!@#\"\n",
    "#     host = \"34.124.232.157\"\n",
    "    host = \"localhost\"\n",
    "    port = \"5432\"\n",
    "    database = \"stream_processing\"\n",
    "    password = urllib.parse.quote_plus(password)\n",
    "\n",
    "    # URL koneksi ke PostgreSQL\n",
    "    db_url = f\"postgresql://{username}:{password}@{host}:{port}/{database}\"\n",
    "\n",
    "    table_name = \"old_information\"\n",
    "    insert_data_to_postgresql(data, table_name, db_url)"
   ]
  },
  {
   "cell_type": "code",
   "execution_count": null,
   "id": "cf4d59f6",
   "metadata": {},
   "outputs": [],
   "source": []
  }
 ],
 "metadata": {
  "kernelspec": {
   "display_name": "Python 3 (ipykernel)",
   "language": "python",
   "name": "python3"
  },
  "language_info": {
   "codemirror_mode": {
    "name": "ipython",
    "version": 3
   },
   "file_extension": ".py",
   "mimetype": "text/x-python",
   "name": "python",
   "nbconvert_exporter": "python",
   "pygments_lexer": "ipython3",
   "version": "3.7.9"
  }
 },
 "nbformat": 4,
 "nbformat_minor": 5
}
